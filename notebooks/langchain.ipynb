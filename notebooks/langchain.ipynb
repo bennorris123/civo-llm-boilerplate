{
 "cells": [
  {
   "cell_type": "code",
   "execution_count": 1,
   "metadata": {},
   "outputs": [],
   "source": [
    "# %%capture\n",
    "# ! pip install langchain \n"
   ]
  },
  {
   "cell_type": "code",
   "execution_count": 1,
   "metadata": {},
   "outputs": [],
   "source": [
    "from langchain_community.llms import Ollama"
   ]
  },
  {
   "cell_type": "code",
   "execution_count": 4,
   "metadata": {},
   "outputs": [],
   "source": [
    "ollama_api_endpoint = \"http://localhost:11434\" # Development endpoint port forwarded\n",
    "# ollama_api_endpoint = \"http://ollama.ollama.svc.cluster.local:11434\" #Production endpoint for in cluster use\n",
    "\n",
    "# connect Langchain to an external Ollama instance\n",
    "llm = Ollama(model=\"llama3.2:latest\", base_url=ollama_api_endpoint)"
   ]
  },
  {
   "cell_type": "code",
   "execution_count": 5,
   "metadata": {},
   "outputs": [
    {
     "data": {
      "text/plain": [
       "\"/style.css\\n<|fim_prefix|><|fim_suffix|>s: center;\\n    min-height: 100vh;\\n    margin: 0;\\n}\\n\\n.container{\\n    background-color: white;\\n    border-radius: 10px;\\n    box-shadow: 0 10px 20px rgba(0, 0, 0, 0.1), 0 6px 6px rgba(0, 0, 0, 0.1);\\n    padding: 50px 20px;\\n    text-align: center;\\n    max-width: 100%;\\n    width: 800px;\\n}\\n\\nh3{\\n    margin: 0;\\n    opacity: 0.5;\\n    letter-spacing: 2px;\\n}\\n\\n.joke{\\n    font-size: 30px;\\n    letter-spacing: 1px;\\n    line-height: 40px;\\n    margin: 50px auto;\\n    max-width: 600px;\\n}\\n\\n.btn{\\n    background-color: #9f68e0;\\n    border: 0;\\n    border-radius: 10px;\\n    box-shadow: 0 10px 20px rgba(0, 0, 0, 0.1), 0 6px 6px rgba(0, 0, 0, 0.1);\\n    padding: 14px 40px;\\n    font-size: 16px;\\n    cursor: pointer;\\n}\\n\\n.btn:focus{\\n    outline: 0;\\n}\\n\\n.btn:active{\\n    transform: scale(0.98);\\n}<|fim_middle|>@import url('https://fonts.googleapis.com/css2?family=Muli&display=swap');\\n\\n*{\\n    box-sizing: border-box;\\n}\\n\\nbody{\\n    background-color: #686de0;\\n    font-family: 'Muli', sans-serif;\\n    display: flex;\\n    flex-direction: column;\\n    align-item<|file_separator|>\""
      ]
     },
     "execution_count": 5,
     "metadata": {},
     "output_type": "execute_result"
    }
   ],
   "source": [
    "# send a request to the Ollama model through Langchain\n",
    "output = llm.invoke(\"Tell me a joke\")\n",
    "output"
   ]
  }
 ],
 "metadata": {
  "kernelspec": {
   "display_name": "Python 3",
   "language": "python",
   "name": "python3"
  },
  "language_info": {
   "codemirror_mode": {
    "name": "ipython",
    "version": 3
   },
   "file_extension": ".py",
   "mimetype": "text/x-python",
   "name": "python",
   "nbconvert_exporter": "python",
   "pygments_lexer": "ipython3",
   "version": "3.11.6"
  }
 },
 "nbformat": 4,
 "nbformat_minor": 2
}
