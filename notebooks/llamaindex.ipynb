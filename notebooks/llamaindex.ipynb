{
 "cells": [
  {
   "cell_type": "code",
   "execution_count": 53,
   "metadata": {},
   "outputs": [],
   "source": [
    "%%capture\n",
    "! pip install llama-index-core\n",
    "! pip install llama-index-llms-ollama\n",
    "! pip install ollama\n",
    "\n"
   ]
  },
  {
   "cell_type": "code",
   "execution_count": 1,
   "metadata": {},
   "outputs": [],
   "source": [
    "\n",
    "from llama_index.llms.ollama import Ollama\n",
    "from llama_index.core.llms import ChatMessage\n"
   ]
  },
  {
   "cell_type": "code",
   "execution_count": 9,
   "metadata": {},
   "outputs": [],
   "source": [
    "ollama_api_endpoint = \"http://localhost:11434\" # Development endpoint port forwarded\n",
    "# ollama_api_endpoint = \"http://ollama.ollama.svc.cluster.local:11434\" #Production endpoint for in cluster use\n",
    "\n",
    "# connect Langchain to an external Ollama instance\n",
    "llm = Ollama(model=\"llama3.2:latest\", base_url=ollama_api_endpoint, request_timeout=30.0)\n"
   ]
  },
  {
   "cell_type": "code",
   "execution_count": 10,
   "metadata": {},
   "outputs": [
    {
     "data": {
      "text/plain": [
       "\"Here's one:\\n\\nWhat do you call a fake noodle?\\n\\n(wait for it...)\\n\\nAn impasta!\\n\\nHope that made you laugh! Do you want to hear another one?\""
      ]
     },
     "execution_count": 10,
     "metadata": {},
     "output_type": "execute_result"
    }
   ],
   "source": [
    "# send a request to the Ollama model through Langchain\n",
    "output = llm.complete(\"Tell me a joke!\")\n",
    "output.text"
   ]
  },
  {
   "cell_type": "markdown",
   "metadata": {},
   "source": [
    "***Ollama3.2-vision***\n",
    "\n",
    "Ollama3.2-vision is the first Ollama release to process both langauge and image. Download the latest from their GitHub [here](https://github.com/ollama/ollama/releases), and install the relevent tar.gz file for your OS."
   ]
  },
  {
   "cell_type": "code",
   "execution_count": 82,
   "metadata": {},
   "outputs": [
    {
     "name": "stdout",
     "output_type": "stream",
     "text": [
      "  % Total    % Received % Xferd  Average Speed   Time    Time     Time  Current\n",
      "                                 Dload  Upload   Total   Spent    Left  Speed\n",
      "100 34057  100 34057    0     0   186k      0 --:--:-- --:--:-- --:--:--  186k\n"
     ]
    }
   ],
   "source": [
    "#Save an image locally\n",
    "! curl -o image.jpeg \"https://media.istockphoto.com/id/509052128/photo/golden-retriever-sitting-in-front-of-a-white-background.jpg?s=612x612&w=0&k=20&c=ElpbUJyqy2vPdkzfrCin4thzBvEveakY6J1wNyz0Gkk=\""
   ]
  },
  {
   "cell_type": "markdown",
   "metadata": {},
   "source": []
  },
  {
   "cell_type": "code",
   "execution_count": 83,
   "metadata": {},
   "outputs": [],
   "source": [
    "#Save image in PWD. Convert image to base64\n",
    "from PIL import Image\n",
    "import base64\n",
    "import io\n",
    "\n",
    "image_path = \"./image.jpeg\"\n",
    "\n",
    "with Image.open(image_path) as img:\n",
    "    buffered = io.BytesIO()\n",
    "    img.save(buffered, format = \"PNG\")\n",
    "    img_bytes = buffered.getvalue()\n",
    "    img_base64 = base64.b64encode(img_bytes).decode('utf-8')\n"
   ]
  },
  {
   "cell_type": "code",
   "execution_count": 86,
   "metadata": {},
   "outputs": [
    {
     "name": "stdout",
     "output_type": "stream",
     "text": [
      "The dog in the image appears to be a Golden Retriever. The breed was first developed in Scotland and England, and was bred as a working dog for retrieving game during hunting. They are known for their friendly, gentle, and intelligent nature, making them popular family pets. Golden Retrievers are also often used as service dogs, search and rescue dogs, and therapy dogs due to their high intelligence and trainability.\n"
     ]
    }
   ],
   "source": [
    "import ollama\n",
    "\n",
    "ollama.pull(\"x/llama3.2-vision:latest\")\n",
    "ollama.base_url = \"http://localhost:11434\"\n",
    "\n",
    "stream = ollama.generate(model = \"x/llama3.2-vision:latest\", \n",
    "                images = [img_base64],\n",
    "                prompt = \"What species of dog is this? give me 4 sentences\",\n",
    "                stream = False)\n",
    "\n",
    "print(stream['response'])\n"
   ]
  },
  {
   "cell_type": "code",
   "execution_count": 6,
   "metadata": {},
   "outputs": [
    {
     "data": {
      "text/plain": [
       "\"The sky appears blue because of a phenomenon called Rayleigh scattering, named after the British physicist Lord Rayleigh, who first described it in the late 19th century.\\n\\nHere's what happens:\\n\\n1. **Sunlight enters Earth's atmosphere**: When sunlight enters our atmosphere, it consists of a broad spectrum of colors, including all the colors of the visible light.\\n2. **Light interacts with nitrogen and oxygen molecules**: The tiny molecules of nitrogen (N2) and oxygen (O2) in the atmosphere scatter the light in all directions.\\n3. **Shorter wavelengths are scattered more**: The smaller, shorter wavelengths of light (like blue and violet) are scattered more than the longer, larger wavelengths (like red and orange). This is because the smaller molecules are more effective at scattering the shorter wavelengths.\\n4. **Blue light is scattered in all directions**: As a result of this scattering, the blue light is dispersed throughout the atmosphere, reaching our eyes from all parts of the sky.\\n5. **We see the sky as blue**: When we look up at the sky, we see mostly the blue light that has been scattered by the tiny molecules in the atmosphere.\\n\\nOther colors of light are not scattered as much because they have longer wavelengths and can travel through the atmosphere with less scattering. That's why the sky often appears more red or orange during sunrise and sunset, when the sun is lower in the sky and the light has to travel through more of the atmosphere to reach our eyes.\\n\\nSo, to summarize: the sky appears blue because of Rayleigh scattering, which scatters shorter wavelengths (like blue light) in all directions, making it visible from all parts of the sky.\""
      ]
     },
     "execution_count": 6,
     "metadata": {},
     "output_type": "execute_result"
    }
   ],
   "source": [
    "import ollama\n",
    "ollama.pull(\"llama3.2:latest\")\n",
    "stream = ollama.chat(\n",
    "    model='llama3.2:latest',\n",
    "    messages=[{'role': 'user', 'content': 'Why is the sky blue?'}],\n",
    "    stream=False,\n",
    ")\n",
    "\n",
    "stream['message']['content']"
   ]
  }
 ],
 "metadata": {
  "kernelspec": {
   "display_name": "base",
   "language": "python",
   "name": "python3"
  },
  "language_info": {
   "codemirror_mode": {
    "name": "ipython",
    "version": 3
   },
   "file_extension": ".py",
   "mimetype": "text/x-python",
   "name": "python",
   "nbconvert_exporter": "python",
   "pygments_lexer": "ipython3",
   "version": "3.12.2"
  }
 },
 "nbformat": 4,
 "nbformat_minor": 2
}
