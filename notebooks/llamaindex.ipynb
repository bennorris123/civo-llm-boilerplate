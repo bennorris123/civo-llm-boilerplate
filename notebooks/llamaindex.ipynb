{
 "cells": [
  {
   "cell_type": "code",
   "execution_count": 1,
   "metadata": {},
   "outputs": [],
   "source": [
    "%%capture\n",
    "! pip install llama-index-core\n",
    "! pip install llama-index-llms-ollama\n",
    "! pip install ollama\n",
    "\n"
   ]
  },
  {
   "cell_type": "code",
   "execution_count": 18,
   "metadata": {},
   "outputs": [],
   "source": [
    "\n",
    "from llama_index.llms.ollama import Ollama\n",
    "from llama_index.core.llms import ChatMessage\n"
   ]
  },
  {
   "cell_type": "code",
   "execution_count": 9,
   "metadata": {},
   "outputs": [],
   "source": [
    "ollama_api_endpoint = \"http://localhost:11434\" # Development endpoint port forwarded\n",
    "# ollama_api_endpoint = \"http://ollama.ollama.svc.cluster.local:11434\" #Production endpoint for in cluster use\n",
    "\n",
    "# connect Langchain to an external Ollama instance\n",
    "llm = Ollama(model=\"llama3.2:latest\", base_url=ollama_api_endpoint, request_timeout=30.0)\n"
   ]
  },
  {
   "cell_type": "code",
   "execution_count": 10,
   "metadata": {},
   "outputs": [
    {
     "data": {
      "text/plain": [
       "\"Here's one:\\n\\nWhat do you call a fake noodle?\\n\\n(wait for it...)\\n\\nAn impasta!\\n\\nHope that made you laugh! Do you want to hear another one?\""
      ]
     },
     "execution_count": 10,
     "metadata": {},
     "output_type": "execute_result"
    }
   ],
   "source": [
    "# send a request to the Ollama model through Langchain\n",
    "output = llm.complete(\"Tell me a joke!\")\n",
    "output.text"
   ]
  },
  {
   "cell_type": "markdown",
   "metadata": {},
   "source": [
    "***Ollama3.2-vision***\n",
    "\n",
    "Ollama3.2-vision is the first Ollama release to process both langauge and image. Download the latest from their GitHub [here](https://github.com/ollama/ollama/releases), and install the relevent tar.gz file for your OS."
   ]
  },
  {
   "cell_type": "markdown",
   "metadata": {},
   "source": []
  },
  {
   "cell_type": "code",
   "execution_count": 11,
   "metadata": {},
   "outputs": [],
   "source": [
    "#Save image in PWD. Convert image to base64\n",
    "from PIL import Image\n",
    "import base64\n",
    "import io\n",
    "\n",
    "image_name = \"Golden+Retrievers+dans+pet+care.jpeg\"\n",
    "image_path = f\"./{image_name}\"\n",
    "\n",
    "with Image.open(image_path) as img:\n",
    "    buffered = io.BytesIO()\n",
    "    img.save(buffered, format = \"PNG\")\n",
    "    img_bytes = buffered.getvalue()\n",
    "    img_base64 = base64.b64encode(img_bytes).decode('utf-8')"
   ]
  },
  {
   "cell_type": "code",
   "execution_count": 39,
   "metadata": {},
   "outputs": [
    {
     "name": "stdout",
     "output_type": "stream",
     "text": [
      " The dog in the image appears to be a Golden Retriever. The breed is known for its thick, lustrous coat that is golden in color and ranges from a dark gold to a creamy white. They are also known for their intelligence, loyalty, and friendly nature.\n"
     ]
    }
   ],
   "source": [
    "import ollama\n",
    "ollama.pull(\"x/llama3.2-vision:latest\")\n",
    "\n",
    "ollama.__dir__()\n",
    "\n",
    "stream = ollama.generate(model = \"x/llama3.2-vision:latest\", \n",
    "                images = [img_base64],\n",
    "                prompt = \"What species of dog is this?\",\n",
    "                stream = True)\n",
    "\n",
    "\n",
    "response = \" \"\n",
    "for i in stream:\n",
    "    response += i['response']\n",
    "\n",
    "print(response)\n"
   ]
  },
  {
   "cell_type": "code",
   "execution_count": null,
   "metadata": {},
   "outputs": [],
   "source": []
  },
  {
   "cell_type": "code",
   "execution_count": null,
   "metadata": {},
   "outputs": [],
   "source": [
    "!ollama pull x/llama3.2-vision:latest\n",
    "llm_vision = Ollama(model = \"x/llama3.2-vision:latest\", base_url = ollama_api_endpoint, request_timeout = 30.0)\n",
    "\n",
    "messages = [ChatMessage(role = \"user\", image = img_base64, content = \"What is this?\")]\n",
    "\n",
    "llm_vision.generate(\n",
    "    images = [img_base64],\n",
    "    prompt = \"What is this?\",\n",
    "    stream = True\n",
    ")"
   ]
  }
 ],
 "metadata": {
  "kernelspec": {
   "display_name": "base",
   "language": "python",
   "name": "python3"
  },
  "language_info": {
   "codemirror_mode": {
    "name": "ipython",
    "version": 3
   },
   "file_extension": ".py",
   "mimetype": "text/x-python",
   "name": "python",
   "nbconvert_exporter": "python",
   "pygments_lexer": "ipython3",
   "version": "3.12.2"
  }
 },
 "nbformat": 4,
 "nbformat_minor": 2
}
